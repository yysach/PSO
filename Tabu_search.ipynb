{
 "cells": [
  {
   "cell_type": "code",
   "execution_count": 36,
   "metadata": {
    "id": "1XoBgdyxE9Xu"
   },
   "outputs": [],
   "source": [
    "load=[10,15,7]   ## for all the vnf i.e. 3\n",
    "#resource=[1,5,8,10,10,10,15]   ## for all the servers\n",
    "resource=[50,50,50,50,50,50,50]   ## for all the servers"
   ]
  },
  {
   "cell_type": "code",
   "execution_count": 37,
   "metadata": {
    "colab": {
     "base_uri": "https://localhost:8080/"
    },
    "id": "KdrykLdlFPey",
    "outputId": "ceaa6c75-88ef-4fa2-da18-602e876fa23d"
   },
   "outputs": [
    {
     "data": {
      "text/plain": [
       "[[0, 6, 9, 10, 3, 9, 8],\n",
       " [6, 0, 3, 6, 2, 3, 3],\n",
       " [9, 3, 0, 9, 8, 1, 3],\n",
       " [10, 6, 9, 0, 2, 1, 5],\n",
       " [3, 2, 8, 2, 0, 4, 10],\n",
       " [9, 3, 1, 1, 4, 0, 5],\n",
       " [8, 3, 3, 5, 10, 5, 0]]"
      ]
     },
     "execution_count": 37,
     "metadata": {
      "tags": []
     },
     "output_type": "execute_result"
    }
   ],
   "source": [
    "## bandwidth matrix\n",
    "serverCount=7\n",
    "import random\n",
    "bandwidth=[[0,0,0,0,0,0,0],[0,0,0,0,0,0,0],[0,0,0,0,0,0,0],[0,0,0,0,0,0,0],[0,0,0,0,0,0,0],[0,0,0,0,0,0,0],[0,0,0,0,0,0,0]]\n",
    "for i in range(0,serverCount):\n",
    "    for j in range(i+1,serverCount):\n",
    "        x=random.randint(1,10)\n",
    "        bandwidth[i][j]=x\n",
    "        bandwidth[j][i]=x    \n",
    "bandwidth"
   ]
  },
  {
   "cell_type": "code",
   "execution_count": 38,
   "metadata": {
    "id": "bQcn4pHfFTn9"
   },
   "outputs": [],
   "source": [
    "traffic=[[0,5,10],\n",
    "         [7,0,2],\n",
    "         [6,2,0]]"
   ]
  },
  {
   "cell_type": "code",
   "execution_count": 39,
   "metadata": {
    "colab": {
     "base_uri": "https://localhost:8080/"
    },
    "id": "Rj0sLpujFUiq",
    "outputId": "a258affe-a0e4-41e6-9360-bafb0a549c5c"
   },
   "outputs": [
    {
     "data": {
      "text/plain": [
       "[[0, 9, 8, 3, 10, 7, 2],\n",
       " [9, 0, 9, 7, 3, 9, 9],\n",
       " [8, 9, 0, 6, 6, 7, 7],\n",
       " [3, 7, 6, 0, 2, 10, 8],\n",
       " [10, 3, 6, 2, 0, 3, 9],\n",
       " [7, 9, 7, 10, 3, 0, 2],\n",
       " [2, 9, 7, 8, 9, 2, 0]]"
      ]
     },
     "execution_count": 39,
     "metadata": {
      "tags": []
     },
     "output_type": "execute_result"
    }
   ],
   "source": [
    "# matrix for latency between servers\n",
    "serverCount =7\n",
    "matrix=[[0,0,0,0,0,0,0],[0,0,0,0,0,0,0],[0,0,0,0,0,0,0],[0,0,0,0,0,0,0],[0,0,0,0,0,0,0],[0,0,0,0,0,0,0],[0,0,0,0,0,0,0]]\n",
    "for i in range(0,serverCount):\n",
    "    for j in range(i+1,serverCount):\n",
    "        x=random.randint(1,10)\n",
    "        matrix[i][j]=x\n",
    "        matrix[j][i]=x    \n",
    "matrix"
   ]
  },
  {
   "cell_type": "code",
   "execution_count": 40,
   "metadata": {
    "id": "apKd3mVdFZEA"
   },
   "outputs": [],
   "source": [
    "# for bandwidth constraint\n",
    "\n",
    "def bandwidthConstraint(s1,s2,s3):\n",
    "    x1 = int(s1)\n",
    "    x2 = int(s2)\n",
    "    x3 = int(s3) \n",
    "    if(traffic[0][1]<=bandwidth[x1][x2] and traffic[1][2]<=bandwidth[x2][x3]):\n",
    "        return True\n",
    "    else:\n",
    "        return False"
   ]
  },
  {
   "cell_type": "code",
   "execution_count": 41,
   "metadata": {
    "id": "-H7h3QxcFcRG"
   },
   "outputs": [],
   "source": [
    "## for load resource constraint\n",
    "def load_resource(x1,x2,x3):\n",
    "    if(load[0]<=resource[x1] and load[1]<=resource[x2]  and load[2]<=resource[x3]):\n",
    "        return True\n",
    "    else:\n",
    "        return False"
   ]
  },
  {
   "cell_type": "code",
   "execution_count": 42,
   "metadata": {
    "id": "qLpjAq-7Ffa3"
   },
   "outputs": [],
   "source": [
    "#Calculating \n",
    "def objectiveFunction(solution):\n",
    "    total_latency=0\n",
    "    total_latency=matrix[solution[0]][solution[1]]+matrix[solution[1]][solution[2]]\n",
    "    if(load_resource(solution[0],solution[1],solution[2])):\n",
    "        if(bandwidthConstraint(solution[0],solution[1],solution[2])):\n",
    "            print(\"three vnf\",solution[0],solution[1],solution[2])\n",
    "            print(total_latency)\n",
    "            return total_latency\n",
    "        else:\n",
    "            print(\"error bandwidth\")\n",
    "            return 1000000\n",
    "    else:\n",
    "        print(\"error load\")\n",
    "        return 1000000"
   ]
  },
  {
   "cell_type": "code",
   "execution_count": null,
   "metadata": {
    "id": "2l7tH64YFfrx"
   },
   "outputs": [],
   "source": [
    "# evaluate current fitness\n",
    "#def evaluate(self,objectiveFunction):\n",
    "    #self.err_i=objectiveFunction(self.position_i)"
   ]
  },
  {
   "cell_type": "code",
   "execution_count": 50,
   "metadata": {
    "colab": {
     "base_uri": "https://localhost:8080/"
    },
    "id": "2z6eN7Z-LQpf",
    "outputId": "c4264c7a-8ee4-4c67-df3c-dcf2da96acbe"
   },
   "outputs": [
    {
     "name": "stdout",
     "output_type": "stream",
     "text": [
      "three vnf 2 3 0\n",
      "9\n",
      "[2, 3, 0]\n"
     ]
    },
    {
     "data": {
      "text/plain": [
       "9"
      ]
     },
     "execution_count": 50,
     "metadata": {
      "tags": []
     },
     "output_type": "execute_result"
    }
   ],
   "source": [
    "import random\n",
    "serverCount = 7\n",
    "\n",
    "## Generating the first solution placement of vnfs\n",
    "def generate_first_solution(serverCount):\n",
    "\n",
    "      firstsolution = []\n",
    "      while(len(firstsolution)<3):\n",
    "          x = random.randint(0,serverCount-1)\n",
    "          if not x in firstsolution:\n",
    "              firstsolution.append(x)\n",
    "\n",
    "      latency = objectiveFunction(firstsolution)         \n",
    "      return firstsolution, latency\n",
    "\n",
    "#Testing\n",
    "firstsolution,latency = generate_first_solution(serverCount)\n",
    "print(firstsolution)\n",
    "latency"
   ]
  },
  {
   "cell_type": "code",
   "execution_count": 68,
   "metadata": {
    "colab": {
     "base_uri": "https://localhost:8080/"
    },
    "id": "nyr0uj_4d10f",
    "outputId": "2dcac24e-fa37-4973-c6ee-b45f7ce8a419"
   },
   "outputs": [
    {
     "data": {
      "text/plain": [
       "[[1, 3, 0],\n",
       " [2, 3, 0],\n",
       " [4, 3, 0],\n",
       " [6, 3, 0],\n",
       " [5, 1, 0],\n",
       " [5, 2, 0],\n",
       " [5, 4, 0],\n",
       " [5, 6, 0],\n",
       " [5, 3, 1],\n",
       " [5, 3, 2],\n",
       " [5, 3, 4],\n",
       " [5, 3, 6]]"
      ]
     },
     "execution_count": 68,
     "metadata": {
      "tags": []
     },
     "output_type": "execute_result"
    }
   ],
   "source": [
    "#Generating the neighbours of a current solution \n",
    "# by placing any one of the vnf to other server\n",
    "def generate_neighbours(currsolution,serverCount):\n",
    "    neighbours = list()\n",
    "\n",
    "    for i in range(0,len(currsolution)):\n",
    "        for j in range(0,serverCount):\n",
    "            server = j\n",
    "            newsolution = []\n",
    "            for item in currsolution:\n",
    "                newsolution.append(item)\n",
    "            if server in currsolution:    #If this server is already present in currsolution, then ignore\n",
    "                continue\n",
    "            newsolution[i] = server       #otherwise, vnf displaced to this server\n",
    "            #print(newsolution, currsolution)    \n",
    "            neighbours.append(newsolution)\n",
    "\n",
    "    return neighbours\n",
    "\n",
    "\n",
    "##Testing\n",
    "currsolution = [5, 3, 0]\n",
    "neighbours = generate_neighbours(currsolution,7)\n",
    "neighbours"
   ]
  },
  {
   "cell_type": "code",
   "execution_count": 71,
   "metadata": {
    "id": "WJtSQ3l5FgIq"
   },
   "outputs": [],
   "source": [
    "def tabu_search(first_solution, latency_of_first_solution, list_of_neighbours, iters, size):\n",
    "    \n"
   ]
  },
  {
   "cell_type": "code",
   "execution_count": 72,
   "metadata": {
    "id": "p27NVeT0fd0h"
   },
   "outputs": [],
   "source": [
    "def main(serverCount,Iterations,tabuListSize):\n",
    "\n",
    "    #Generating the initial solution\n",
    "    first_solution, latency_of_first_solution = generate_first_solution(serverCount)\n",
    "\n",
    "    #Generating the neighbouring solutions\n",
    "    list_of_neighbours = generate_neighbours(first_solution,serverCount)\n",
    "\n",
    "    #Find best placement and its latency\n",
    "    best_sol, best_cost = tabu_search(\n",
    "        first_solution,\n",
    "        latency_of_first_solution,\n",
    "        list_of_neighbours,\n",
    "        Iterations,\n",
    "        tabuListSize,\n",
    "    )\n",
    "\n",
    "    print(f\"Best solution: {best_sol}, with total distance: {best_cost}.\")"
   ]
  },
  {
   "cell_type": "code",
   "execution_count": 75,
   "metadata": {
    "colab": {
     "base_uri": "https://localhost:8080/"
    },
    "id": "_64XgxdAfAi6",
    "outputId": "25ab2f65-cd90-44e2-8a65-e6edb5338d0d"
   },
   "outputs": [
    {
     "name": "stdout",
     "output_type": "stream",
     "text": [
      "error bandwidth\n",
      "Best solution: [5, 3, 0], with total distance: 13.\n"
     ]
    }
   ],
   "source": [
    "if __name__ == \"__main__\":\n",
    "    main(serverCount=7,Iterations=50,tabuListSize=15)"
   ]
  }
 ],
 "metadata": {
  "colab": {
   "name": "Tabu_search.ipynb",
   "provenance": []
  },
  "kernelspec": {
   "display_name": "Python 3",
   "language": "python",
   "name": "python3"
  },
  "language_info": {
   "codemirror_mode": {
    "name": "ipython",
    "version": 3
   },
   "file_extension": ".py",
   "mimetype": "text/x-python",
   "name": "python",
   "nbconvert_exporter": "python",
   "pygments_lexer": "ipython3",
   "version": "3.8.5"
  }
 },
 "nbformat": 4,
 "nbformat_minor": 1
}
