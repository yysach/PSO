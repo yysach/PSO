{
 "cells": [
  {
   "cell_type": "code",
   "execution_count": 1,
   "metadata": {},
   "outputs": [],
   "source": [
    "load=[10,15,7]   ## for all the vnf i.e. 3\n",
    "resource=[1,5,8,10,10,10,15]   ## for all the servers"
   ]
  },
  {
   "cell_type": "code",
   "execution_count": 2,
   "metadata": {},
   "outputs": [
    {
     "data": {
      "text/plain": [
       "[[0, 6, 9, 10, 3, 10, 4],\n",
       " [6, 0, 5, 10, 8, 2, 9],\n",
       " [9, 5, 0, 5, 7, 7, 5],\n",
       " [10, 10, 5, 0, 8, 9, 10],\n",
       " [3, 8, 7, 8, 0, 2, 6],\n",
       " [10, 2, 7, 9, 2, 0, 5],\n",
       " [4, 9, 5, 10, 6, 5, 0]]"
      ]
     },
     "execution_count": 2,
     "metadata": {},
     "output_type": "execute_result"
    }
   ],
   "source": [
    "## bandwidth matrix\n",
    "serverCount=7\n",
    "import random\n",
    "bandwidth=[[0,0,0,0,0,0,0],[0,0,0,0,0,0,0],[0,0,0,0,0,0,0],[0,0,0,0,0,0,0],[0,0,0,0,0,0,0],[0,0,0,0,0,0,0],[0,0,0,0,0,0,0]]\n",
    "for i in range(0,serverCount):\n",
    "    for j in range(i+1,serverCount):\n",
    "        x=random.randint(1,10)\n",
    "        bandwidth[i][j]=x\n",
    "        bandwidth[j][i]=x    \n",
    "bandwidth"
   ]
  },
  {
   "cell_type": "code",
   "execution_count": 3,
   "metadata": {},
   "outputs": [],
   "source": [
    "traffic=[[0,5,10],\n",
    "         [7,0,2],\n",
    "         [6,2,0]]"
   ]
  },
  {
   "cell_type": "code",
   "execution_count": 4,
   "metadata": {},
   "outputs": [
    {
     "data": {
      "text/plain": [
       "[[0, 2, 3, 7, 9, 10, 7],\n",
       " [2, 0, 7, 4, 5, 3, 2],\n",
       " [3, 7, 0, 2, 2, 3, 1],\n",
       " [7, 4, 2, 0, 7, 6, 10],\n",
       " [9, 5, 2, 7, 0, 4, 6],\n",
       " [10, 3, 3, 6, 4, 0, 7],\n",
       " [7, 2, 1, 10, 6, 7, 0]]"
      ]
     },
     "execution_count": 4,
     "metadata": {},
     "output_type": "execute_result"
    }
   ],
   "source": [
    "# matrix for latency between servers\n",
    "serverCount =7\n",
    "matrix=[[0,0,0,0,0,0,0],[0,0,0,0,0,0,0],[0,0,0,0,0,0,0],[0,0,0,0,0,0,0],[0,0,0,0,0,0,0],[0,0,0,0,0,0,0],[0,0,0,0,0,0,0]]\n",
    "for i in range(0,serverCount):\n",
    "    for j in range(i+1,serverCount):\n",
    "        x=random.randint(1,10)\n",
    "        matrix[i][j]=x\n",
    "        matrix[j][i]=x    \n",
    "matrix"
   ]
  },
  {
   "cell_type": "code",
   "execution_count": 5,
   "metadata": {},
   "outputs": [],
   "source": [
    "# for bandwidth constraint\n",
    "\n",
    "def bandwidthConstraint(x1,x2,x3):\n",
    "    if(traffic[0][1]<=bandwidth[x1][x2] and traffic[1][2]<=bandwidth[x2][x3]):\n",
    "        return True\n",
    "    else:\n",
    "        return False"
   ]
  },
  {
   "cell_type": "code",
   "execution_count": 6,
   "metadata": {},
   "outputs": [],
   "source": [
    "## for load resource constraint\n",
    "def load_resource(x1,x2,x3):\n",
    "    if(load[0]<=resource[x1] and load[1]<=resource[x2]  and load[2]<=resource[x3]):\n",
    "        return True\n",
    "    else:\n",
    "        return False"
   ]
  },
  {
   "cell_type": "code",
   "execution_count": 7,
   "metadata": {},
   "outputs": [],
   "source": [
    "def objectiveFunction(x):\n",
    "    total_latency=0\n",
    "    ## fetch top 3 probailities for vnf placemnent\n",
    "    firstmax=-1\n",
    "    firstvnf=-1\n",
    "    secondmax=-1\n",
    "    secondvnf=-1\n",
    "    thirdmax=-1\n",
    "    thirdvnf=-1\n",
    "    j=0\n",
    "    for i in x:\n",
    "        if i>firstmax:\n",
    "            thirdmax=secondmax\n",
    "            thirdvnf=secondvnf\n",
    "            secondmax=firstmax\n",
    "            secondvnf=firstvnf\n",
    "            firstmax=i\n",
    "            firstvnf=j\n",
    "        elif i>secondmax:\n",
    "            thirdmax=secondmax\n",
    "            thirdvnf=secondvnf\n",
    "            secondmax=i\n",
    "            secondvnf=j\n",
    "        elif i>thirdmax:\n",
    "            thirdmax=i\n",
    "            thirdvnf=j\n",
    "        j=j+1\n",
    "    \n",
    "    total_latency=matrix[firstvnf][secondvnf]+matrix[secondvnf][thirdvnf]\n",
    "    if(load_resource(firstvnf,secondvnf,thirdvnf)):\n",
    "        if(bandwidthConstraint(firstvnf,secondvnf,thirdvnf)):\n",
    "            print(\"three vnf\",firstvnf,secondvnf,thirdvnf)\n",
    "            print(total_latency)\n",
    "            return total_latency\n",
    "        else:\n",
    "            print(\"error bandwidth\")\n",
    "            return 1000000\n",
    "    else:\n",
    "        print(\"error load\")\n",
    "        return 1000000"
   ]
  },
  {
   "cell_type": "code",
   "execution_count": null,
   "metadata": {},
   "outputs": [],
   "source": [
    "class TabuSearch:\n",
    "    def __init__(self):\n",
    "        "
   ]
  }
 ],
 "metadata": {
  "kernelspec": {
   "display_name": "Python 3",
   "language": "python",
   "name": "python3"
  },
  "language_info": {
   "codemirror_mode": {
    "name": "ipython",
    "version": 3
   },
   "file_extension": ".py",
   "mimetype": "text/x-python",
   "name": "python",
   "nbconvert_exporter": "python",
   "pygments_lexer": "ipython3",
   "version": "3.8.5"
  }
 },
 "nbformat": 4,
 "nbformat_minor": 4
}
